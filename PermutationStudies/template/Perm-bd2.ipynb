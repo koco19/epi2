{
 "cells": [
  {
   "cell_type": "markdown",
   "metadata": {},
   "source": [
    "# Antibody levels buildings with fixed households\n",
    "\n",
    "Check whether antibody levels in a building are more similar than one would expect statistically, if people still stay in the same household.\n",
    "\n",
    "Here, we implement an approximate permutation by only permuting households of the same size."
   ]
  },
  {
   "cell_type": "markdown",
   "metadata": {},
   "source": [
    "## Data preprocessing"
   ]
  },
  {
   "cell_type": "code",
   "execution_count": null,
   "metadata": {},
   "outputs": [],
   "source": [
    "import numpy as np\n",
    "import pandas as pd\n",
    "import matplotlib.pyplot as plt\n",
    "import seaborn as sns\n",
    "import random\n",
    "from copy import deepcopy\n",
    "import multiprocessing as mp\n",
    "from jabbar import jabbar\n",
    "from pyprojroot import here\n",
    "import os\n",
    "\n",
    "import sys\n",
    "base_path = str(here(\"\", project_files=[\".here\"]))\n",
    "perm_path = os.path.join(base_path, \"PermutationStudies\")\n",
    "if perm_path not in sys.path:\n",
    "    sys.path.insert(0, perm_path)\n",
    "from src.functions import *\n",
    "\n",
    "%matplotlib inline\n",
    "\n",
    "random.seed(0)\n",
    "np.random.seed(0)\n",
    "\n",
    "# control variable of interest\n",
    "var = 'address_id'\n",
    "# measurements to study\n",
    "data_key = 'R2_Result'\n",
    "# number of permutations\n",
    "n_perm = %%n_perm%%\n",
    "\n",
    "# identifier\n",
    "id_ = f\"bd2_{data_key}_{n_perm}\""
   ]
  },
  {
   "cell_type": "code",
   "execution_count": null,
   "metadata": {},
   "outputs": [],
   "source": [
    "blab = read_blab(base_path)\n",
    "\n",
    "geo = read_geo(base_path)\n",
    "\n",
    "# restrict to study households\n",
    "geo = geo[geo.hht_ID.isin(blab.hh_id.unique())]\n",
    "\n",
    "# merge\n",
    "geo = geo.rename(columns={'hht_ID': 'hh_id'})\n",
    "data = pd.merge(blab, geo)\n",
    "print(blab.shape, geo.shape, data.shape, \"initially\")\n",
    "\n",
    "# remove duplicate columns\n",
    "data = data.drop_duplicates(subset=['ind_id'], keep='first')\n",
    "print(data.shape, \"after remove duplicates\")\n",
    "\n",
    "# remove nans   \n",
    "data = data[data[data_key].notnull()]\n",
    "print(data.shape, \"after remove nans\")\n",
    "\n",
    "# translate results\n",
    "data[data_key] = (data[data_key] == \"Positive\").astype(float)\n",
    "\n",
    "# data plot\n",
    "fig, ax = plt.subplots(figsize=(3, 3))\n",
    "ax.hist(data[data_key], color='C0', bins=100)\n",
    "ax.set_xlabel(data_key)\n",
    "ax.set_ylabel(\"Frequency\")\n",
    "fig.tight_layout()"
   ]
  },
  {
   "cell_type": "markdown",
   "metadata": {},
   "source": [
    "## Household aware permutation function"
   ]
  },
  {
   "cell_type": "code",
   "execution_count": null,
   "metadata": {},
   "outputs": [],
   "source": [
    "%%time\n",
    "hh_ids_uq = np.asarray(data.hh_id.unique())\n",
    "vals_by_hh = []\n",
    "for hh_id in hh_ids_uq:\n",
    "    vals_by_hh.append(np.asarray(data[data.hh_id==hh_id][data_key]))\n",
    "    \n",
    "bd_ids_uq = np.asarray(data.address_id.unique())\n",
    "bds_by_hh = []\n",
    "for hh_id in hh_ids_uq:\n",
    "    bds_by_hh.append(float(data[data.hh_id==hh_id].address_id.unique()))\n",
    "bds_by_hh = np.array(bds_by_hh)"
   ]
  },
  {
   "cell_type": "markdown",
   "metadata": {},
   "source": [
    "## Define statistics"
   ]
  },
  {
   "cell_type": "markdown",
   "metadata": {},
   "source": [
    "Completely vectorized numpy implementation:"
   ]
  },
  {
   "cell_type": "code",
   "execution_count": null,
   "metadata": {},
   "outputs": [],
   "source": [
    "%%time\n",
    "# this matches other implementations\n",
    "real_variance = mean_variance(vals_by_hh, bds_by_hh, bd_ids_uq)\n",
    "real_variance"
   ]
  },
  {
   "cell_type": "markdown",
   "metadata": {},
   "source": [
    "## Permutation test"
   ]
  },
  {
   "cell_type": "code",
   "execution_count": null,
   "metadata": {},
   "outputs": [],
   "source": [
    "%%time\n",
    "\n",
    "# set random seed for reproducibility\n",
    "np.random.seed(0)\n",
    "\n",
    "# for results\n",
    "variances = []\n",
    "\n",
    "# loop over all permutations\n",
    "for _ in jabbar(range(n_perm), symbols='🦄'):\n",
    "    variances.append(permuted_mean_variance(\n",
    "        vals_by_hh, bds_by_hh, bd_ids_uq))\n",
    "\n",
    "# to numpy arrays\n",
    "variances = np.array(variances)"
   ]
  },
  {
   "cell_type": "code",
   "execution_count": null,
   "metadata": {},
   "outputs": [],
   "source": [
    "#save data\n",
    "save_data(id_, variances=variances,\n",
    "          real_variance=real_variance,\n",
    "          perm_path=perm_path)"
   ]
  },
  {
   "cell_type": "markdown",
   "metadata": {},
   "source": [
    "## Analysis"
   ]
  },
  {
   "cell_type": "code",
   "execution_count": null,
   "metadata": {},
   "outputs": [],
   "source": [
    "# load data\n",
    "variances, real_variance = load_data(\n",
    "    id_=id_, obj_keys=['variances', 'real_variance'],\n",
    "    perm_path=perm_path)"
   ]
  },
  {
   "cell_type": "code",
   "execution_count": null,
   "metadata": {},
   "outputs": [],
   "source": [
    "# plot for variances\n",
    "plot_kde(samples=variances, obj_key='variances', real_sample=real_variance,\n",
    "         data_key=data_key, id_=id_, suptitle=\"Average variance over buildings\",\n",
    "         perm_path=perm_path)\n",
    "plot_hist(samples=variances, obj_key='variances', real_sample=real_variance,\n",
    "          data_key=data_key, id_=id_, suptitle=\"Average variance over buildings\",\n",
    "          perm_path=perm_path)"
   ]
  },
  {
   "cell_type": "code",
   "execution_count": null,
   "metadata": {},
   "outputs": [],
   "source": [
    "print(\"Percentiles:\")\n",
    "print(\"Variance\", data_key, sum(variances <= real_variance) / len(variances))"
   ]
  }
 ],
 "metadata": {
  "kernelspec": {
   "display_name": "Python 3",
   "language": "python",
   "name": "python3"
  },
  "language_info": {
   "codemirror_mode": {
    "name": "ipython",
    "version": 3
   },
   "file_extension": ".py",
   "mimetype": "text/x-python",
   "name": "python",
   "nbconvert_exporter": "python",
   "pygments_lexer": "ipython3",
   "version": "3.9.1"
  }
 },
 "nbformat": 4,
 "nbformat_minor": 4
}
